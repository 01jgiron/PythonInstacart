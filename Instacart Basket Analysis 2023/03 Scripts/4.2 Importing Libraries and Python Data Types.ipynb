{
 "cells": [
  {
   "cell_type": "markdown",
   "id": "860b07ec",
   "metadata": {},
   "source": [
    "# 01 Importing Libraries "
   ]
  },
  {
   "cell_type": "code",
   "execution_count": 1,
   "id": "16421616",
   "metadata": {},
   "outputs": [],
   "source": [
    "# import libraries \n",
    "import pandas as pd\n",
    "import numpy as np\n",
    "import os "
   ]
  },
  {
   "cell_type": "markdown",
   "id": "0cf88338",
   "metadata": {},
   "source": [
    "# 02 Data Types"
   ]
  },
  {
   "cell_type": "code",
   "execution_count": 12,
   "id": "f8850937",
   "metadata": {},
   "outputs": [],
   "source": [
    "x = 20"
   ]
  },
  {
   "cell_type": "code",
   "execution_count": 13,
   "id": "25b8af83",
   "metadata": {},
   "outputs": [
    {
     "data": {
      "text/plain": [
       "100"
      ]
     },
     "execution_count": 13,
     "metadata": {},
     "output_type": "execute_result"
    }
   ],
   "source": [
    "x+x+x+x+x"
   ]
  },
  {
   "cell_type": "code",
   "execution_count": 14,
   "id": "7eda0e2f",
   "metadata": {},
   "outputs": [
    {
     "data": {
      "text/plain": [
       "100"
      ]
     },
     "execution_count": 14,
     "metadata": {},
     "output_type": "execute_result"
    }
   ],
   "source": [
    "x*5"
   ]
  },
  {
   "cell_type": "code",
   "execution_count": 15,
   "id": "5f1088b5",
   "metadata": {},
   "outputs": [
    {
     "data": {
      "text/plain": [
       "100.0"
      ]
     },
     "execution_count": 15,
     "metadata": {},
     "output_type": "execute_result"
    }
   ],
   "source": [
    "10*x/2"
   ]
  },
  {
   "cell_type": "code",
   "execution_count": 16,
   "id": "ec52d0ed",
   "metadata": {},
   "outputs": [
    {
     "data": {
      "text/plain": [
       "100"
      ]
     },
     "execution_count": 16,
     "metadata": {},
     "output_type": "execute_result"
    }
   ],
   "source": [
    "6*x-x"
   ]
  },
  {
   "cell_type": "code",
   "execution_count": 17,
   "id": "4b73ccbb",
   "metadata": {},
   "outputs": [],
   "source": [
    "y=3.75"
   ]
  },
  {
   "cell_type": "code",
   "execution_count": 19,
   "id": "9676c7d4",
   "metadata": {},
   "outputs": [],
   "source": [
    "j=1.25"
   ]
  },
  {
   "cell_type": "code",
   "execution_count": 20,
   "id": "d7528ae9",
   "metadata": {},
   "outputs": [
    {
     "data": {
      "text/plain": [
       "3.0"
      ]
     },
     "execution_count": 20,
     "metadata": {},
     "output_type": "execute_result"
    }
   ],
   "source": [
    "y/j"
   ]
  },
  {
   "cell_type": "code",
   "execution_count": 21,
   "id": "4a816469",
   "metadata": {},
   "outputs": [],
   "source": [
    "z='hi '"
   ]
  },
  {
   "cell_type": "code",
   "execution_count": 22,
   "id": "2bd83b93",
   "metadata": {},
   "outputs": [],
   "source": [
    "a='how '"
   ]
  },
  {
   "cell_type": "code",
   "execution_count": 23,
   "id": "dbf82f8c",
   "metadata": {},
   "outputs": [],
   "source": [
    "b='are '"
   ]
  },
  {
   "cell_type": "code",
   "execution_count": 24,
   "id": "0313c34b",
   "metadata": {},
   "outputs": [],
   "source": [
    "c='you?'"
   ]
  },
  {
   "cell_type": "code",
   "execution_count": 25,
   "id": "6ea4ed84",
   "metadata": {},
   "outputs": [
    {
     "data": {
      "text/plain": [
       "'hihowareyou?'"
      ]
     },
     "execution_count": 25,
     "metadata": {},
     "output_type": "execute_result"
    }
   ],
   "source": [
    "z+a+b+c"
   ]
  },
  {
   "cell_type": "code",
   "execution_count": 27,
   "id": "c70ea0db",
   "metadata": {},
   "outputs": [],
   "source": [
    "d='I'"
   ]
  },
  {
   "cell_type": "code",
   "execution_count": 28,
   "id": "b2c5ccf1",
   "metadata": {},
   "outputs": [],
   "source": [
    "e='am'"
   ]
  },
  {
   "cell_type": "code",
   "execution_count": 29,
   "id": "2bf27cc0",
   "metadata": {},
   "outputs": [],
   "source": [
    "f='good.'"
   ]
  },
  {
   "cell_type": "code",
   "execution_count": 30,
   "id": "dce8fc92",
   "metadata": {},
   "outputs": [
    {
     "data": {
      "text/plain": [
       "'hiIamgood.'"
      ]
     },
     "execution_count": 30,
     "metadata": {},
     "output_type": "execute_result"
    }
   ],
   "source": [
    "z+d+e+f"
   ]
  },
  {
   "cell_type": "code",
   "execution_count": null,
   "id": "6a0d538b",
   "metadata": {},
   "outputs": [],
   "source": []
  }
 ],
 "metadata": {
  "kernelspec": {
   "display_name": "Python 3 (ipykernel)",
   "language": "python",
   "name": "python3"
  },
  "language_info": {
   "codemirror_mode": {
    "name": "ipython",
    "version": 3
   },
   "file_extension": ".py",
   "mimetype": "text/x-python",
   "name": "python",
   "nbconvert_exporter": "python",
   "pygments_lexer": "ipython3",
   "version": "3.10.9"
  }
 },
 "nbformat": 4,
 "nbformat_minor": 5
}
