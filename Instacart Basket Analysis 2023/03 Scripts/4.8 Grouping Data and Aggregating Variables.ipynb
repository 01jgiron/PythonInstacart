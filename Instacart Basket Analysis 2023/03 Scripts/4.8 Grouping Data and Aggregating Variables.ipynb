{
 "cells": [
  {
   "cell_type": "markdown",
   "id": "a46280ca",
   "metadata": {},
   "source": [
    "# Import Libraries"
   ]
  },
  {
   "cell_type": "code",
   "execution_count": 4,
   "id": "cd21de86",
   "metadata": {},
   "outputs": [
    {
     "name": "stdout",
     "output_type": "stream",
     "text": [
      "/Users/jessicagiron/Desktop/Instacart Basket Analysis 2023/02 Data/Prepared Data/DV_ords_prods_merged.pkl\n"
     ]
    }
   ],
   "source": [
    "import pandas as pd\n",
    "import numpy as np\n",
    "import os\n",
    "path=r'/Users/jessicagiron/Desktop/Instacart Basket Analysis 2023/02 Data/Prepared Data/DV_ords_prods_merged.pkl'\n",
    "print (path)\n",
    "ords_prods_merge=pd.read_pickle(path)"
   ]
  },
  {
   "cell_type": "markdown",
   "id": "7f0e71c2",
   "metadata": {},
   "source": [
    "# Aggregrate the mean of the order_number column by dpartment_id"
   ]
  },
  {
   "cell_type": "code",
   "execution_count": 15,
   "id": "949dad9c",
   "metadata": {},
   "outputs": [
    {
     "data": {
      "text/html": [
       "<div>\n",
       "<style scoped>\n",
       "    .dataframe tbody tr th:only-of-type {\n",
       "        vertical-align: middle;\n",
       "    }\n",
       "\n",
       "    .dataframe tbody tr th {\n",
       "        vertical-align: top;\n",
       "    }\n",
       "\n",
       "    .dataframe thead th {\n",
       "        text-align: right;\n",
       "    }\n",
       "</style>\n",
       "<table border=\"1\" class=\"dataframe\">\n",
       "  <thead>\n",
       "    <tr style=\"text-align: right;\">\n",
       "      <th></th>\n",
       "      <th>Unnamed: 0.1</th>\n",
       "      <th>Unnamed: 0_x</th>\n",
       "      <th>order_id</th>\n",
       "      <th>user_id</th>\n",
       "      <th>order_number</th>\n",
       "      <th>order_day_of_week</th>\n",
       "      <th>order_hour_of_day</th>\n",
       "      <th>days_since_last_order</th>\n",
       "      <th>product_id</th>\n",
       "      <th>add_to_cart_order</th>\n",
       "      <th>...</th>\n",
       "      <th>department_id</th>\n",
       "      <th>prices</th>\n",
       "      <th>_merge</th>\n",
       "      <th>price_range_loc</th>\n",
       "      <th>busiest_day</th>\n",
       "      <th>busiest_days</th>\n",
       "      <th>busy_order_times</th>\n",
       "      <th>busiest_period_of_the_day</th>\n",
       "      <th>max_order</th>\n",
       "      <th>loyalty_flag</th>\n",
       "    </tr>\n",
       "  </thead>\n",
       "  <tbody>\n",
       "    <tr>\n",
       "      <th>0</th>\n",
       "      <td>0</td>\n",
       "      <td>0</td>\n",
       "      <td>2539329</td>\n",
       "      <td>1</td>\n",
       "      <td>1</td>\n",
       "      <td>2</td>\n",
       "      <td>8</td>\n",
       "      <td>NaN</td>\n",
       "      <td>196</td>\n",
       "      <td>1</td>\n",
       "      <td>...</td>\n",
       "      <td>7</td>\n",
       "      <td>9.0</td>\n",
       "      <td>both</td>\n",
       "      <td>Mid-range product</td>\n",
       "      <td>Regularly busy</td>\n",
       "      <td>Regularly busy</td>\n",
       "      <td>Average time</td>\n",
       "      <td>Average orders</td>\n",
       "      <td>10</td>\n",
       "      <td>New customer</td>\n",
       "    </tr>\n",
       "    <tr>\n",
       "      <th>1</th>\n",
       "      <td>1</td>\n",
       "      <td>1</td>\n",
       "      <td>2398795</td>\n",
       "      <td>1</td>\n",
       "      <td>2</td>\n",
       "      <td>3</td>\n",
       "      <td>7</td>\n",
       "      <td>15.0</td>\n",
       "      <td>196</td>\n",
       "      <td>1</td>\n",
       "      <td>...</td>\n",
       "      <td>7</td>\n",
       "      <td>9.0</td>\n",
       "      <td>both</td>\n",
       "      <td>Mid-range product</td>\n",
       "      <td>Regularly busy</td>\n",
       "      <td>Least busy days</td>\n",
       "      <td>Average time</td>\n",
       "      <td>Average orders</td>\n",
       "      <td>10</td>\n",
       "      <td>New customer</td>\n",
       "    </tr>\n",
       "    <tr>\n",
       "      <th>2</th>\n",
       "      <td>2</td>\n",
       "      <td>2</td>\n",
       "      <td>473747</td>\n",
       "      <td>1</td>\n",
       "      <td>3</td>\n",
       "      <td>3</td>\n",
       "      <td>12</td>\n",
       "      <td>21.0</td>\n",
       "      <td>196</td>\n",
       "      <td>1</td>\n",
       "      <td>...</td>\n",
       "      <td>7</td>\n",
       "      <td>9.0</td>\n",
       "      <td>both</td>\n",
       "      <td>Mid-range product</td>\n",
       "      <td>Regularly busy</td>\n",
       "      <td>Least busy days</td>\n",
       "      <td>Average time</td>\n",
       "      <td>Average orders</td>\n",
       "      <td>10</td>\n",
       "      <td>New customer</td>\n",
       "    </tr>\n",
       "    <tr>\n",
       "      <th>3</th>\n",
       "      <td>3</td>\n",
       "      <td>3</td>\n",
       "      <td>2254736</td>\n",
       "      <td>1</td>\n",
       "      <td>4</td>\n",
       "      <td>4</td>\n",
       "      <td>7</td>\n",
       "      <td>29.0</td>\n",
       "      <td>196</td>\n",
       "      <td>1</td>\n",
       "      <td>...</td>\n",
       "      <td>7</td>\n",
       "      <td>9.0</td>\n",
       "      <td>both</td>\n",
       "      <td>Mid-range product</td>\n",
       "      <td>Regularly busy</td>\n",
       "      <td>Least busy days</td>\n",
       "      <td>Average time</td>\n",
       "      <td>Average orders</td>\n",
       "      <td>10</td>\n",
       "      <td>New customer</td>\n",
       "    </tr>\n",
       "    <tr>\n",
       "      <th>4</th>\n",
       "      <td>4</td>\n",
       "      <td>4</td>\n",
       "      <td>431534</td>\n",
       "      <td>1</td>\n",
       "      <td>5</td>\n",
       "      <td>4</td>\n",
       "      <td>15</td>\n",
       "      <td>28.0</td>\n",
       "      <td>196</td>\n",
       "      <td>1</td>\n",
       "      <td>...</td>\n",
       "      <td>7</td>\n",
       "      <td>9.0</td>\n",
       "      <td>both</td>\n",
       "      <td>Mid-range product</td>\n",
       "      <td>Regularly busy</td>\n",
       "      <td>Least busy days</td>\n",
       "      <td>Busiest time</td>\n",
       "      <td>Most orders</td>\n",
       "      <td>10</td>\n",
       "      <td>New customer</td>\n",
       "    </tr>\n",
       "  </tbody>\n",
       "</table>\n",
       "<p>5 rows × 25 columns</p>\n",
       "</div>"
      ],
      "text/plain": [
       "   Unnamed: 0.1  Unnamed: 0_x  order_id  user_id  order_number  \\\n",
       "0             0             0   2539329        1             1   \n",
       "1             1             1   2398795        1             2   \n",
       "2             2             2    473747        1             3   \n",
       "3             3             3   2254736        1             4   \n",
       "4             4             4    431534        1             5   \n",
       "\n",
       "   order_day_of_week  order_hour_of_day  days_since_last_order  product_id  \\\n",
       "0                  2                  8                    NaN         196   \n",
       "1                  3                  7                   15.0         196   \n",
       "2                  3                 12                   21.0         196   \n",
       "3                  4                  7                   29.0         196   \n",
       "4                  4                 15                   28.0         196   \n",
       "\n",
       "   add_to_cart_order  ...  department_id prices  _merge    price_range_loc  \\\n",
       "0                  1  ...              7    9.0    both  Mid-range product   \n",
       "1                  1  ...              7    9.0    both  Mid-range product   \n",
       "2                  1  ...              7    9.0    both  Mid-range product   \n",
       "3                  1  ...              7    9.0    both  Mid-range product   \n",
       "4                  1  ...              7    9.0    both  Mid-range product   \n",
       "\n",
       "      busiest_day     busiest_days  busy_order_times  \\\n",
       "0  Regularly busy   Regularly busy      Average time   \n",
       "1  Regularly busy  Least busy days      Average time   \n",
       "2  Regularly busy  Least busy days      Average time   \n",
       "3  Regularly busy  Least busy days      Average time   \n",
       "4  Regularly busy  Least busy days      Busiest time   \n",
       "\n",
       "  busiest_period_of_the_day max_order  loyalty_flag  \n",
       "0            Average orders        10  New customer  \n",
       "1            Average orders        10  New customer  \n",
       "2            Average orders        10  New customer  \n",
       "3            Average orders        10  New customer  \n",
       "4               Most orders        10  New customer  \n",
       "\n",
       "[5 rows x 25 columns]"
      ]
     },
     "execution_count": 15,
     "metadata": {},
     "output_type": "execute_result"
    }
   ],
   "source": [
    "ords_prods_merge.head()"
   ]
  },
  {
   "cell_type": "code",
   "execution_count": 16,
   "id": "ccebc8f9",
   "metadata": {},
   "outputs": [
    {
     "data": {
      "text/plain": [
       "<pandas.core.groupby.generic.DataFrameGroupBy object at 0x7f92a6a670a0>"
      ]
     },
     "execution_count": 16,
     "metadata": {},
     "output_type": "execute_result"
    }
   ],
   "source": [
    "ords_prods_merge.groupby('product_name')"
   ]
  },
  {
   "cell_type": "code",
   "execution_count": 17,
   "id": "2b34c6af",
   "metadata": {},
   "outputs": [
    {
     "data": {
      "text/plain": [
       "department_id\n",
       "1     15.457838\n",
       "2     17.277920\n",
       "3     17.170395\n",
       "4     17.811403\n",
       "5     15.215751\n",
       "6     16.439806\n",
       "7     17.225802\n",
       "8     15.340650\n",
       "9     15.895474\n",
       "10    20.197148\n",
       "11    16.170638\n",
       "12    15.887671\n",
       "13    16.583536\n",
       "14    16.773669\n",
       "15    16.165037\n",
       "16    17.665606\n",
       "17    15.694469\n",
       "18    19.310397\n",
       "19    17.177343\n",
       "20    16.473447\n",
       "21    22.902379\n",
       "Name: order_number, dtype: float64"
      ]
     },
     "execution_count": 17,
     "metadata": {},
     "output_type": "execute_result"
    }
   ],
   "source": [
    "#compare the average number of orders across each instacart dapartment by finding the mean of the order_number column grouped by departmen.groupby('department_id').agg({'order_number': ['mean']})\n",
    "ords_prods_merge.groupby('department_id').order_number.mean()"
   ]
  },
  {
   "cell_type": "code",
   "execution_count": 19,
   "id": "72f56ab7",
   "metadata": {},
   "outputs": [],
   "source": [
    "#same aggregation but using a limited subset\n",
    "df_ex=ords_prods_merge[:1000000]"
   ]
  },
  {
   "cell_type": "code",
   "execution_count": 20,
   "id": "6bbe7749",
   "metadata": {},
   "outputs": [
    {
     "data": {
      "text/plain": [
       "<pandas.core.groupby.generic.DataFrameGroupBy object at 0x7f92a6b53160>"
      ]
     },
     "execution_count": 20,
     "metadata": {},
     "output_type": "execute_result"
    }
   ],
   "source": [
    "df_ex.groupby('product_name')"
   ]
  },
  {
   "cell_type": "code",
   "execution_count": 21,
   "id": "29cfd5d7",
   "metadata": {},
   "outputs": [
    {
     "data": {
      "text/plain": [
       "department_id\n",
       "4     18.825780\n",
       "7     17.472355\n",
       "13    17.993423\n",
       "14    19.246334\n",
       "16    19.463012\n",
       "17    11.294069\n",
       "19    19.305237\n",
       "20    17.599636\n",
       "Name: order_number, dtype: float64"
      ]
     },
     "execution_count": 21,
     "metadata": {},
     "output_type": "execute_result"
    }
   ],
   "source": [
    "df_ex.groupby('department_id').order_number.mean()"
   ]
  },
  {
   "cell_type": "markdown",
   "id": "e28186af",
   "metadata": {},
   "source": [
    "Comparing the limted data set to the values of the entire data frame, the min and max average amount of orders among each department differ and all the department values are listed in the code that include the entire data frame. "
   ]
  },
  {
   "cell_type": "markdown",
   "id": "1a3438bd",
   "metadata": {},
   "source": [
    "# Find Loyal Customers"
   ]
  },
  {
   "cell_type": "code",
   "execution_count": 10,
   "id": "f163f4f9",
   "metadata": {},
   "outputs": [],
   "source": [
    "ords_prods_merge['max_order'] = ords_prods_merge.groupby(['user_id'])['order_number'].transform(np.max)"
   ]
  },
  {
   "cell_type": "code",
   "execution_count": 11,
   "id": "3ada1130",
   "metadata": {},
   "outputs": [
    {
     "data": {
      "text/html": [
       "<div>\n",
       "<style scoped>\n",
       "    .dataframe tbody tr th:only-of-type {\n",
       "        vertical-align: middle;\n",
       "    }\n",
       "\n",
       "    .dataframe tbody tr th {\n",
       "        vertical-align: top;\n",
       "    }\n",
       "\n",
       "    .dataframe thead th {\n",
       "        text-align: right;\n",
       "    }\n",
       "</style>\n",
       "<table border=\"1\" class=\"dataframe\">\n",
       "  <thead>\n",
       "    <tr style=\"text-align: right;\">\n",
       "      <th></th>\n",
       "      <th>Unnamed: 0.1</th>\n",
       "      <th>Unnamed: 0_x</th>\n",
       "      <th>order_id</th>\n",
       "      <th>user_id</th>\n",
       "      <th>order_number</th>\n",
       "      <th>order_day_of_week</th>\n",
       "      <th>order_hour_of_day</th>\n",
       "      <th>days_since_last_order</th>\n",
       "      <th>product_id</th>\n",
       "      <th>add_to_cart_order</th>\n",
       "      <th>...</th>\n",
       "      <th>aisle_id</th>\n",
       "      <th>department_id</th>\n",
       "      <th>prices</th>\n",
       "      <th>_merge</th>\n",
       "      <th>price_range_loc</th>\n",
       "      <th>busiest_day</th>\n",
       "      <th>busiest_days</th>\n",
       "      <th>busy_order_times</th>\n",
       "      <th>busiest_period_of_the_day</th>\n",
       "      <th>max_order</th>\n",
       "    </tr>\n",
       "  </thead>\n",
       "  <tbody>\n",
       "    <tr>\n",
       "      <th>0</th>\n",
       "      <td>0</td>\n",
       "      <td>0</td>\n",
       "      <td>2539329</td>\n",
       "      <td>1</td>\n",
       "      <td>1</td>\n",
       "      <td>2</td>\n",
       "      <td>8</td>\n",
       "      <td>NaN</td>\n",
       "      <td>196</td>\n",
       "      <td>1</td>\n",
       "      <td>...</td>\n",
       "      <td>77</td>\n",
       "      <td>7</td>\n",
       "      <td>9.0</td>\n",
       "      <td>both</td>\n",
       "      <td>Mid-range product</td>\n",
       "      <td>Regularly busy</td>\n",
       "      <td>Regularly busy</td>\n",
       "      <td>Average time</td>\n",
       "      <td>Average orders</td>\n",
       "      <td>10</td>\n",
       "    </tr>\n",
       "    <tr>\n",
       "      <th>1</th>\n",
       "      <td>1</td>\n",
       "      <td>1</td>\n",
       "      <td>2398795</td>\n",
       "      <td>1</td>\n",
       "      <td>2</td>\n",
       "      <td>3</td>\n",
       "      <td>7</td>\n",
       "      <td>15.0</td>\n",
       "      <td>196</td>\n",
       "      <td>1</td>\n",
       "      <td>...</td>\n",
       "      <td>77</td>\n",
       "      <td>7</td>\n",
       "      <td>9.0</td>\n",
       "      <td>both</td>\n",
       "      <td>Mid-range product</td>\n",
       "      <td>Regularly busy</td>\n",
       "      <td>Least busy days</td>\n",
       "      <td>Average time</td>\n",
       "      <td>Average orders</td>\n",
       "      <td>10</td>\n",
       "    </tr>\n",
       "    <tr>\n",
       "      <th>2</th>\n",
       "      <td>2</td>\n",
       "      <td>2</td>\n",
       "      <td>473747</td>\n",
       "      <td>1</td>\n",
       "      <td>3</td>\n",
       "      <td>3</td>\n",
       "      <td>12</td>\n",
       "      <td>21.0</td>\n",
       "      <td>196</td>\n",
       "      <td>1</td>\n",
       "      <td>...</td>\n",
       "      <td>77</td>\n",
       "      <td>7</td>\n",
       "      <td>9.0</td>\n",
       "      <td>both</td>\n",
       "      <td>Mid-range product</td>\n",
       "      <td>Regularly busy</td>\n",
       "      <td>Least busy days</td>\n",
       "      <td>Average time</td>\n",
       "      <td>Average orders</td>\n",
       "      <td>10</td>\n",
       "    </tr>\n",
       "    <tr>\n",
       "      <th>3</th>\n",
       "      <td>3</td>\n",
       "      <td>3</td>\n",
       "      <td>2254736</td>\n",
       "      <td>1</td>\n",
       "      <td>4</td>\n",
       "      <td>4</td>\n",
       "      <td>7</td>\n",
       "      <td>29.0</td>\n",
       "      <td>196</td>\n",
       "      <td>1</td>\n",
       "      <td>...</td>\n",
       "      <td>77</td>\n",
       "      <td>7</td>\n",
       "      <td>9.0</td>\n",
       "      <td>both</td>\n",
       "      <td>Mid-range product</td>\n",
       "      <td>Regularly busy</td>\n",
       "      <td>Least busy days</td>\n",
       "      <td>Average time</td>\n",
       "      <td>Average orders</td>\n",
       "      <td>10</td>\n",
       "    </tr>\n",
       "    <tr>\n",
       "      <th>4</th>\n",
       "      <td>4</td>\n",
       "      <td>4</td>\n",
       "      <td>431534</td>\n",
       "      <td>1</td>\n",
       "      <td>5</td>\n",
       "      <td>4</td>\n",
       "      <td>15</td>\n",
       "      <td>28.0</td>\n",
       "      <td>196</td>\n",
       "      <td>1</td>\n",
       "      <td>...</td>\n",
       "      <td>77</td>\n",
       "      <td>7</td>\n",
       "      <td>9.0</td>\n",
       "      <td>both</td>\n",
       "      <td>Mid-range product</td>\n",
       "      <td>Regularly busy</td>\n",
       "      <td>Least busy days</td>\n",
       "      <td>Busiest time</td>\n",
       "      <td>Most orders</td>\n",
       "      <td>10</td>\n",
       "    </tr>\n",
       "    <tr>\n",
       "      <th>5</th>\n",
       "      <td>5</td>\n",
       "      <td>5</td>\n",
       "      <td>3367565</td>\n",
       "      <td>1</td>\n",
       "      <td>6</td>\n",
       "      <td>2</td>\n",
       "      <td>7</td>\n",
       "      <td>19.0</td>\n",
       "      <td>196</td>\n",
       "      <td>1</td>\n",
       "      <td>...</td>\n",
       "      <td>77</td>\n",
       "      <td>7</td>\n",
       "      <td>9.0</td>\n",
       "      <td>both</td>\n",
       "      <td>Mid-range product</td>\n",
       "      <td>Regularly busy</td>\n",
       "      <td>Regularly busy</td>\n",
       "      <td>Average time</td>\n",
       "      <td>Average orders</td>\n",
       "      <td>10</td>\n",
       "    </tr>\n",
       "    <tr>\n",
       "      <th>6</th>\n",
       "      <td>6</td>\n",
       "      <td>6</td>\n",
       "      <td>550135</td>\n",
       "      <td>1</td>\n",
       "      <td>7</td>\n",
       "      <td>1</td>\n",
       "      <td>9</td>\n",
       "      <td>20.0</td>\n",
       "      <td>196</td>\n",
       "      <td>1</td>\n",
       "      <td>...</td>\n",
       "      <td>77</td>\n",
       "      <td>7</td>\n",
       "      <td>9.0</td>\n",
       "      <td>both</td>\n",
       "      <td>Mid-range product</td>\n",
       "      <td>Regularly busy</td>\n",
       "      <td>Busiest days</td>\n",
       "      <td>Average time</td>\n",
       "      <td>Average orders</td>\n",
       "      <td>10</td>\n",
       "    </tr>\n",
       "    <tr>\n",
       "      <th>7</th>\n",
       "      <td>7</td>\n",
       "      <td>7</td>\n",
       "      <td>3108588</td>\n",
       "      <td>1</td>\n",
       "      <td>8</td>\n",
       "      <td>1</td>\n",
       "      <td>14</td>\n",
       "      <td>14.0</td>\n",
       "      <td>196</td>\n",
       "      <td>2</td>\n",
       "      <td>...</td>\n",
       "      <td>77</td>\n",
       "      <td>7</td>\n",
       "      <td>9.0</td>\n",
       "      <td>both</td>\n",
       "      <td>Mid-range product</td>\n",
       "      <td>Regularly busy</td>\n",
       "      <td>Busiest days</td>\n",
       "      <td>Busiest time</td>\n",
       "      <td>Most orders</td>\n",
       "      <td>10</td>\n",
       "    </tr>\n",
       "    <tr>\n",
       "      <th>8</th>\n",
       "      <td>8</td>\n",
       "      <td>8</td>\n",
       "      <td>2295261</td>\n",
       "      <td>1</td>\n",
       "      <td>9</td>\n",
       "      <td>1</td>\n",
       "      <td>16</td>\n",
       "      <td>0.0</td>\n",
       "      <td>196</td>\n",
       "      <td>4</td>\n",
       "      <td>...</td>\n",
       "      <td>77</td>\n",
       "      <td>7</td>\n",
       "      <td>9.0</td>\n",
       "      <td>both</td>\n",
       "      <td>Mid-range product</td>\n",
       "      <td>Regularly busy</td>\n",
       "      <td>Busiest days</td>\n",
       "      <td>Average time</td>\n",
       "      <td>Average orders</td>\n",
       "      <td>10</td>\n",
       "    </tr>\n",
       "    <tr>\n",
       "      <th>9</th>\n",
       "      <td>9</td>\n",
       "      <td>9</td>\n",
       "      <td>2550362</td>\n",
       "      <td>1</td>\n",
       "      <td>10</td>\n",
       "      <td>4</td>\n",
       "      <td>8</td>\n",
       "      <td>30.0</td>\n",
       "      <td>196</td>\n",
       "      <td>1</td>\n",
       "      <td>...</td>\n",
       "      <td>77</td>\n",
       "      <td>7</td>\n",
       "      <td>9.0</td>\n",
       "      <td>both</td>\n",
       "      <td>Mid-range product</td>\n",
       "      <td>Regularly busy</td>\n",
       "      <td>Least busy days</td>\n",
       "      <td>Average time</td>\n",
       "      <td>Average orders</td>\n",
       "      <td>10</td>\n",
       "    </tr>\n",
       "    <tr>\n",
       "      <th>10</th>\n",
       "      <td>144</td>\n",
       "      <td>144</td>\n",
       "      <td>2968173</td>\n",
       "      <td>15</td>\n",
       "      <td>15</td>\n",
       "      <td>1</td>\n",
       "      <td>9</td>\n",
       "      <td>7.0</td>\n",
       "      <td>196</td>\n",
       "      <td>2</td>\n",
       "      <td>...</td>\n",
       "      <td>77</td>\n",
       "      <td>7</td>\n",
       "      <td>9.0</td>\n",
       "      <td>both</td>\n",
       "      <td>Mid-range product</td>\n",
       "      <td>Regularly busy</td>\n",
       "      <td>Busiest days</td>\n",
       "      <td>Average time</td>\n",
       "      <td>Average orders</td>\n",
       "      <td>22</td>\n",
       "    </tr>\n",
       "    <tr>\n",
       "      <th>11</th>\n",
       "      <td>146</td>\n",
       "      <td>146</td>\n",
       "      <td>1870022</td>\n",
       "      <td>15</td>\n",
       "      <td>17</td>\n",
       "      <td>2</td>\n",
       "      <td>16</td>\n",
       "      <td>8.0</td>\n",
       "      <td>196</td>\n",
       "      <td>6</td>\n",
       "      <td>...</td>\n",
       "      <td>77</td>\n",
       "      <td>7</td>\n",
       "      <td>9.0</td>\n",
       "      <td>both</td>\n",
       "      <td>Mid-range product</td>\n",
       "      <td>Regularly busy</td>\n",
       "      <td>Regularly busy</td>\n",
       "      <td>Average time</td>\n",
       "      <td>Average orders</td>\n",
       "      <td>22</td>\n",
       "    </tr>\n",
       "    <tr>\n",
       "      <th>12</th>\n",
       "      <td>147</td>\n",
       "      <td>147</td>\n",
       "      <td>1911383</td>\n",
       "      <td>15</td>\n",
       "      <td>18</td>\n",
       "      <td>2</td>\n",
       "      <td>11</td>\n",
       "      <td>7.0</td>\n",
       "      <td>196</td>\n",
       "      <td>1</td>\n",
       "      <td>...</td>\n",
       "      <td>77</td>\n",
       "      <td>7</td>\n",
       "      <td>9.0</td>\n",
       "      <td>both</td>\n",
       "      <td>Mid-range product</td>\n",
       "      <td>Regularly busy</td>\n",
       "      <td>Regularly busy</td>\n",
       "      <td>Busiest time</td>\n",
       "      <td>Most orders</td>\n",
       "      <td>22</td>\n",
       "    </tr>\n",
       "    <tr>\n",
       "      <th>13</th>\n",
       "      <td>150</td>\n",
       "      <td>150</td>\n",
       "      <td>2715276</td>\n",
       "      <td>15</td>\n",
       "      <td>21</td>\n",
       "      <td>1</td>\n",
       "      <td>9</td>\n",
       "      <td>7.0</td>\n",
       "      <td>196</td>\n",
       "      <td>1</td>\n",
       "      <td>...</td>\n",
       "      <td>77</td>\n",
       "      <td>7</td>\n",
       "      <td>9.0</td>\n",
       "      <td>both</td>\n",
       "      <td>Mid-range product</td>\n",
       "      <td>Regularly busy</td>\n",
       "      <td>Busiest days</td>\n",
       "      <td>Average time</td>\n",
       "      <td>Average orders</td>\n",
       "      <td>22</td>\n",
       "    </tr>\n",
       "    <tr>\n",
       "      <th>14</th>\n",
       "      <td>151</td>\n",
       "      <td>151</td>\n",
       "      <td>487368</td>\n",
       "      <td>15</td>\n",
       "      <td>22</td>\n",
       "      <td>1</td>\n",
       "      <td>10</td>\n",
       "      <td>14.0</td>\n",
       "      <td>196</td>\n",
       "      <td>1</td>\n",
       "      <td>...</td>\n",
       "      <td>77</td>\n",
       "      <td>7</td>\n",
       "      <td>9.0</td>\n",
       "      <td>both</td>\n",
       "      <td>Mid-range product</td>\n",
       "      <td>Regularly busy</td>\n",
       "      <td>Busiest days</td>\n",
       "      <td>Busiest time</td>\n",
       "      <td>Most orders</td>\n",
       "      <td>22</td>\n",
       "    </tr>\n",
       "  </tbody>\n",
       "</table>\n",
       "<p>15 rows × 24 columns</p>\n",
       "</div>"
      ],
      "text/plain": [
       "    Unnamed: 0.1  Unnamed: 0_x  order_id  user_id  order_number  \\\n",
       "0              0             0   2539329        1             1   \n",
       "1              1             1   2398795        1             2   \n",
       "2              2             2    473747        1             3   \n",
       "3              3             3   2254736        1             4   \n",
       "4              4             4    431534        1             5   \n",
       "5              5             5   3367565        1             6   \n",
       "6              6             6    550135        1             7   \n",
       "7              7             7   3108588        1             8   \n",
       "8              8             8   2295261        1             9   \n",
       "9              9             9   2550362        1            10   \n",
       "10           144           144   2968173       15            15   \n",
       "11           146           146   1870022       15            17   \n",
       "12           147           147   1911383       15            18   \n",
       "13           150           150   2715276       15            21   \n",
       "14           151           151    487368       15            22   \n",
       "\n",
       "    order_day_of_week  order_hour_of_day  days_since_last_order  product_id  \\\n",
       "0                   2                  8                    NaN         196   \n",
       "1                   3                  7                   15.0         196   \n",
       "2                   3                 12                   21.0         196   \n",
       "3                   4                  7                   29.0         196   \n",
       "4                   4                 15                   28.0         196   \n",
       "5                   2                  7                   19.0         196   \n",
       "6                   1                  9                   20.0         196   \n",
       "7                   1                 14                   14.0         196   \n",
       "8                   1                 16                    0.0         196   \n",
       "9                   4                  8                   30.0         196   \n",
       "10                  1                  9                    7.0         196   \n",
       "11                  2                 16                    8.0         196   \n",
       "12                  2                 11                    7.0         196   \n",
       "13                  1                  9                    7.0         196   \n",
       "14                  1                 10                   14.0         196   \n",
       "\n",
       "    add_to_cart_order  ...  aisle_id department_id  prices _merge  \\\n",
       "0                   1  ...        77             7     9.0   both   \n",
       "1                   1  ...        77             7     9.0   both   \n",
       "2                   1  ...        77             7     9.0   both   \n",
       "3                   1  ...        77             7     9.0   both   \n",
       "4                   1  ...        77             7     9.0   both   \n",
       "5                   1  ...        77             7     9.0   both   \n",
       "6                   1  ...        77             7     9.0   both   \n",
       "7                   2  ...        77             7     9.0   both   \n",
       "8                   4  ...        77             7     9.0   both   \n",
       "9                   1  ...        77             7     9.0   both   \n",
       "10                  2  ...        77             7     9.0   both   \n",
       "11                  6  ...        77             7     9.0   both   \n",
       "12                  1  ...        77             7     9.0   both   \n",
       "13                  1  ...        77             7     9.0   both   \n",
       "14                  1  ...        77             7     9.0   both   \n",
       "\n",
       "      price_range_loc     busiest_day     busiest_days busy_order_times  \\\n",
       "0   Mid-range product  Regularly busy   Regularly busy     Average time   \n",
       "1   Mid-range product  Regularly busy  Least busy days     Average time   \n",
       "2   Mid-range product  Regularly busy  Least busy days     Average time   \n",
       "3   Mid-range product  Regularly busy  Least busy days     Average time   \n",
       "4   Mid-range product  Regularly busy  Least busy days     Busiest time   \n",
       "5   Mid-range product  Regularly busy   Regularly busy     Average time   \n",
       "6   Mid-range product  Regularly busy     Busiest days     Average time   \n",
       "7   Mid-range product  Regularly busy     Busiest days     Busiest time   \n",
       "8   Mid-range product  Regularly busy     Busiest days     Average time   \n",
       "9   Mid-range product  Regularly busy  Least busy days     Average time   \n",
       "10  Mid-range product  Regularly busy     Busiest days     Average time   \n",
       "11  Mid-range product  Regularly busy   Regularly busy     Average time   \n",
       "12  Mid-range product  Regularly busy   Regularly busy     Busiest time   \n",
       "13  Mid-range product  Regularly busy     Busiest days     Average time   \n",
       "14  Mid-range product  Regularly busy     Busiest days     Busiest time   \n",
       "\n",
       "   busiest_period_of_the_day max_order  \n",
       "0             Average orders        10  \n",
       "1             Average orders        10  \n",
       "2             Average orders        10  \n",
       "3             Average orders        10  \n",
       "4                Most orders        10  \n",
       "5             Average orders        10  \n",
       "6             Average orders        10  \n",
       "7                Most orders        10  \n",
       "8             Average orders        10  \n",
       "9             Average orders        10  \n",
       "10            Average orders        22  \n",
       "11            Average orders        22  \n",
       "12               Most orders        22  \n",
       "13            Average orders        22  \n",
       "14               Most orders        22  \n",
       "\n",
       "[15 rows x 24 columns]"
      ]
     },
     "execution_count": 11,
     "metadata": {},
     "output_type": "execute_result"
    }
   ],
   "source": [
    "ords_prods_merge.head(15)"
   ]
  },
  {
   "cell_type": "code",
   "execution_count": 12,
   "id": "89440318",
   "metadata": {},
   "outputs": [],
   "source": [
    "#deriving colums with loc()\n",
    "ords_prods_merge.loc[ords_prods_merge['max_order'] > 40, 'loyalty_flag'] = 'Loyal customer'\n",
    "ords_prods_merge.loc[(ords_prods_merge['max_order'] <= 40) & (ords_prods_merge['max_order'] > 10), 'loyalty_flag'] = 'Regular customer'\n",
    "ords_prods_merge.loc[ords_prods_merge['max_order'] <= 10, 'loyalty_flag'] = 'New customer'"
   ]
  },
  {
   "cell_type": "code",
   "execution_count": 13,
   "id": "a843ce7b",
   "metadata": {},
   "outputs": [
    {
     "data": {
      "text/plain": [
       "Regular customer    15876776\n",
       "Loyal customer      10284093\n",
       "New customer         6243990\n",
       "Name: loyalty_flag, dtype: int64"
      ]
     },
     "execution_count": 13,
     "metadata": {},
     "output_type": "execute_result"
    }
   ],
   "source": [
    "ords_prods_merge['loyalty_flag'].value_counts(dropna=False)"
   ]
  },
  {
   "cell_type": "code",
   "execution_count": 26,
   "id": "ca2f123b",
   "metadata": {
    "scrolled": true
   },
   "outputs": [
    {
     "data": {
      "text/plain": [
       "32404859"
      ]
     },
     "execution_count": 26,
     "metadata": {},
     "output_type": "execute_result"
    }
   ],
   "source": [
    "#check if the number of rows tranformed and loc equal to the df \n",
    "ords_prods_merge['loyalty_flag'].value_counts(dropna=False).sum()"
   ]
  },
  {
   "cell_type": "code",
   "execution_count": 28,
   "id": "944e64f0",
   "metadata": {},
   "outputs": [
    {
     "data": {
      "text/plain": [
       "(32404859, 25)"
      ]
     },
     "execution_count": 28,
     "metadata": {},
     "output_type": "execute_result"
    }
   ],
   "source": [
    "ords_prods_merge.shape"
   ]
  },
  {
   "cell_type": "markdown",
   "id": "6435cc99",
   "metadata": {},
   "source": [
    "# Produce prices for each loyal customer catgory "
   ]
  },
  {
   "cell_type": "code",
   "execution_count": 29,
   "id": "5e3d4a86",
   "metadata": {},
   "outputs": [
    {
     "data": {
      "text/html": [
       "<div>\n",
       "<style scoped>\n",
       "    .dataframe tbody tr th:only-of-type {\n",
       "        vertical-align: middle;\n",
       "    }\n",
       "\n",
       "    .dataframe tbody tr th {\n",
       "        vertical-align: top;\n",
       "    }\n",
       "\n",
       "    .dataframe thead tr th {\n",
       "        text-align: left;\n",
       "    }\n",
       "\n",
       "    .dataframe thead tr:last-of-type th {\n",
       "        text-align: right;\n",
       "    }\n",
       "</style>\n",
       "<table border=\"1\" class=\"dataframe\">\n",
       "  <thead>\n",
       "    <tr>\n",
       "      <th></th>\n",
       "      <th colspan=\"4\" halign=\"left\">prices</th>\n",
       "    </tr>\n",
       "    <tr>\n",
       "      <th></th>\n",
       "      <th>mean</th>\n",
       "      <th>min</th>\n",
       "      <th>max</th>\n",
       "      <th>sum</th>\n",
       "    </tr>\n",
       "    <tr>\n",
       "      <th>loyalty_flag</th>\n",
       "      <th></th>\n",
       "      <th></th>\n",
       "      <th></th>\n",
       "      <th></th>\n",
       "    </tr>\n",
       "  </thead>\n",
       "  <tbody>\n",
       "    <tr>\n",
       "      <th>Loyal customer</th>\n",
       "      <td>10.386336</td>\n",
       "      <td>1.0</td>\n",
       "      <td>99999.0</td>\n",
       "      <td>106814042.2</td>\n",
       "    </tr>\n",
       "    <tr>\n",
       "      <th>New customer</th>\n",
       "      <td>13.294670</td>\n",
       "      <td>1.0</td>\n",
       "      <td>99999.0</td>\n",
       "      <td>83011787.2</td>\n",
       "    </tr>\n",
       "    <tr>\n",
       "      <th>Regular customer</th>\n",
       "      <td>12.495717</td>\n",
       "      <td>1.0</td>\n",
       "      <td>99999.0</td>\n",
       "      <td>198391693.2</td>\n",
       "    </tr>\n",
       "  </tbody>\n",
       "</table>\n",
       "</div>"
      ],
      "text/plain": [
       "                     prices                           \n",
       "                       mean  min      max          sum\n",
       "loyalty_flag                                          \n",
       "Loyal customer    10.386336  1.0  99999.0  106814042.2\n",
       "New customer      13.294670  1.0  99999.0   83011787.2\n",
       "Regular customer  12.495717  1.0  99999.0  198391693.2"
      ]
     },
     "execution_count": 29,
     "metadata": {},
     "output_type": "execute_result"
    }
   ],
   "source": [
    "#Preform multiple aggregation (min, max, mean, 'sum')\n",
    "ords_prods_merge.groupby('loyalty_flag').agg({'prices': ['mean','min','max','sum']})"
   ]
  },
  {
   "cell_type": "markdown",
   "id": "343a83e5",
   "metadata": {},
   "source": [
    "Loyal customers tend to spend, on average, the least amount out of all the categories. New customers tend to spend the most on average. Regular customers have the greatest sum of amount spent due to the fact that most of the customers fall under the \"regular customer\" category. Min and max are same for all categories. "
   ]
  },
  {
   "cell_type": "markdown",
   "id": "140654b8",
   "metadata": {},
   "source": [
    "# Create a spending flag"
   ]
  },
  {
   "cell_type": "code",
   "execution_count": 36,
   "id": "9ebb89ca",
   "metadata": {},
   "outputs": [],
   "source": [
    "#changing the data type user_id and prices to int\n",
    "ords_prods_merge['user_id']=ords_prods_merge['user_id'].astype(int)\n",
    "ords_prods_merge['prices']=ords_prods_merge['prices'].astype(int)"
   ]
  },
  {
   "cell_type": "code",
   "execution_count": 40,
   "id": "7fb5e687",
   "metadata": {},
   "outputs": [],
   "source": [
    "ords_prods_merge['avg_price']=ords_prods_merge.groupby('user_id')['prices'].transform(np.mean)"
   ]
  },
  {
   "cell_type": "code",
   "execution_count": 41,
   "id": "2d1e729c",
   "metadata": {},
   "outputs": [],
   "source": [
    "ords_prods_merge.loc[ords_prods_merge['avg_price']>=10, 'spending_flag']= 'high spender'\n",
    "ords_prods_merge.loc[ords_prods_merge['avg_price']<=10, 'spending_flag']='low spender'"
   ]
  },
  {
   "cell_type": "code",
   "execution_count": 44,
   "id": "96a0122e",
   "metadata": {},
   "outputs": [
    {
     "data": {
      "text/plain": [
       "low spender     31840067\n",
       "high spender      564792\n",
       "Name: spending_flag, dtype: int64"
      ]
     },
     "execution_count": 44,
     "metadata": {},
     "output_type": "execute_result"
    }
   ],
   "source": [
    "ords_prods_merge['spending_flag'].value_counts(dropna=False)"
   ]
  },
  {
   "cell_type": "code",
   "execution_count": 45,
   "id": "4cca3852",
   "metadata": {},
   "outputs": [
    {
     "data": {
      "text/plain": [
       "32404859"
      ]
     },
     "execution_count": 45,
     "metadata": {},
     "output_type": "execute_result"
    }
   ],
   "source": [
    "#check if row number match with df\n",
    "ords_prods_merge['spending_flag'].value_counts(dropna=False).sum()"
   ]
  },
  {
   "cell_type": "markdown",
   "id": "d1f91d7d",
   "metadata": {},
   "source": [
    "# Create a order frequency flag"
   ]
  },
  {
   "cell_type": "code",
   "execution_count": 46,
   "id": "d96a9a53",
   "metadata": {},
   "outputs": [],
   "source": [
    "ords_prods_merge['med_of_days_since_last_order']=ords_prods_merge.groupby('user_id')['days_since_last_order'].transform(np.median)"
   ]
  },
  {
   "cell_type": "code",
   "execution_count": 47,
   "id": "b3f71b8f",
   "metadata": {},
   "outputs": [],
   "source": [
    "ords_prods_merge.loc[ords_prods_merge['med_of_days_since_last_order']>20, 'order_freq_flag']='Non-frequent customer'\n",
    "ords_prods_merge.loc[(ords_prods_merge['med_of_days_since_last_order']>10) &(ords_prods_merge['med_of_days_since_last_order']<=20), 'order_freq_flag']='Regular customer'\n",
    "ords_prods_merge.loc[ords_prods_merge['med_of_days_since_last_order']<=10, 'order_freq_flag']='Frequent customer'"
   ]
  },
  {
   "cell_type": "code",
   "execution_count": 48,
   "id": "4d3257ab",
   "metadata": {},
   "outputs": [
    {
     "data": {
      "text/plain": [
       "Frequent customer        21559853\n",
       "Regular customer          7208564\n",
       "Non-frequent customer     3636437\n",
       "NaN                             5\n",
       "Name: order_freq_flag, dtype: int64"
      ]
     },
     "execution_count": 48,
     "metadata": {},
     "output_type": "execute_result"
    }
   ],
   "source": [
    "ords_prods_merge['order_freq_flag'].value_counts(dropna=False)"
   ]
  },
  {
   "cell_type": "code",
   "execution_count": 49,
   "id": "557e4bd8",
   "metadata": {},
   "outputs": [
    {
     "data": {
      "text/plain": [
       "32404859"
      ]
     },
     "execution_count": 49,
     "metadata": {},
     "output_type": "execute_result"
    }
   ],
   "source": [
    "#check shape\n",
    "ords_prods_merge['order_freq_flag'].value_counts(dropna=False).sum()"
   ]
  },
  {
   "cell_type": "code",
   "execution_count": 50,
   "id": "55358b98",
   "metadata": {},
   "outputs": [],
   "source": [
    "ords_prods_merge.to_pickle(os.path.join('/Users/jessicagiron/Desktop/Instacart Basket Analysis 2023/02 Data/Prepared Data/ords_prods_flags.pkl'))"
   ]
  }
 ],
 "metadata": {
  "kernelspec": {
   "display_name": "Python 3 (ipykernel)",
   "language": "python",
   "name": "python3"
  },
  "language_info": {
   "codemirror_mode": {
    "name": "ipython",
    "version": 3
   },
   "file_extension": ".py",
   "mimetype": "text/x-python",
   "name": "python",
   "nbconvert_exporter": "python",
   "pygments_lexer": "ipython3",
   "version": "3.10.9"
  }
 },
 "nbformat": 4,
 "nbformat_minor": 5
}
